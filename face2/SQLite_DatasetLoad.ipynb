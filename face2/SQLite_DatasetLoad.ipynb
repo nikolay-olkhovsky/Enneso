{
 "cells": [
  {
   "cell_type": "markdown",
   "id": "6577a5ff-b142-4111-928a-85a106c33e54",
   "metadata": {},
   "source": [
    "# Подготовка массивов данных для обучения ИНС"
   ]
  },
  {
   "cell_type": "markdown",
   "id": "ad937403-1e73-4114-806a-23d1e46f97f3",
   "metadata": {},
   "source": [
    "1. Загрузка полного массива данных\n",
    "2. Формирование косинусовых векторов для ИНС директора\n",
    "3. Формирование прецедентов для ИНС распознавателя"
   ]
  },
  {
   "cell_type": "markdown",
   "id": "46f80acb-dac0-4443-880e-1a156e0e5ceb",
   "metadata": {},
   "source": [
    "## Загрузка полного массива данных"
   ]
  },
  {
   "cell_type": "code",
   "execution_count": 6,
   "id": "8ab8a28e-c5ed-484b-89e0-1c827430447f",
   "metadata": {},
   "outputs": [
    {
     "name": "stdout",
     "output_type": "stream",
     "text": [
      "161\n"
     ]
    }
   ],
   "source": [
    "_DIR_ = 'D:/DNN/cross5_rank1000/face2/'\n",
    "LIMIT = 50000\n",
    "DIM = 5\n",
    "ETA = 20\n",
    "PP_K = 2*ETA*(DIM - 1) + 1\n",
    "print(PP_K)"
   ]
  },
  {
   "cell_type": "code",
   "execution_count": 7,
   "id": "22446633-fed7-450a-b663-345f2a1ae919",
   "metadata": {},
   "outputs": [
    {
     "name": "stdout",
     "output_type": "stream",
     "text": [
      "20700\n"
     ]
    }
   ],
   "source": [
    "import numpy as np\n",
    "\n",
    "dataset = np.load(_DIR_ + 'dataset100000_face2.npy')\n",
    "#dataset[:,0:PP_K] -> distances\n",
    "#dataset[:,PP_K] -> face\n",
    "#dataset[:,PP_K + 1:PP_K + 1 + DIM] -> cosine coordinates\n",
    "#dataset[:,PP_K + 1 + DIM:PP_K + 1 + 2*DIM] -> face count\n",
    "print(len(dataset))"
   ]
  },
  {
   "cell_type": "raw",
   "id": "f57ed681-1316-47e1-abb2-9dc207a2a0b1",
   "metadata": {},
   "source": [
    "print(dataset[57:59])"
   ]
  },
  {
   "cell_type": "markdown",
   "id": "1aeb2a8a-f98f-41f2-9414-f208732310b2",
   "metadata": {
    "jp-MarkdownHeadingCollapsed": true
   },
   "source": [
    "## Формирование косинусовых векторов для ИНС директора 1 (без нулей)"
   ]
  },
  {
   "cell_type": "markdown",
   "id": "ef9b04d2-0c3c-466c-82f1-d45b2436b93f",
   "metadata": {},
   "source": [
    "Поместим в `face1_yes` строчки, в которых поле `face` равно `1.`. Движение возможно только по одиночной гиперплоскости."
   ]
  },
  {
   "cell_type": "raw",
   "id": "bbf8c732-97b9-4bb6-9fda-5e5a15bffa2a",
   "metadata": {},
   "source": [
    "face1_yes = dataset[np.in1d(dataset[:, PP_K], np.asarray([1.]))]\n",
    "#face1_yes = face1_yes[np.in1d(face1_yes[:, PP_K + 1 + DIM + 1], np.asarray([1.]))]\n",
    "print(face1_yes[:10, PP_K + 1 + DIM + 1]) # Проверка столбца face_count[1] (содержит число многообразий уровня 2, по которым возможно движение)\n",
    "print(len(face1_yes))"
   ]
  },
  {
   "cell_type": "markdown",
   "id": "afa20b6c-c089-40da-bde2-f1d41cc1e924",
   "metadata": {
    "editable": true,
    "slideshow": {
     "slide_type": ""
    },
    "tags": []
   },
   "source": [
    "Сохраним в `test` поля, содержащие образ рецептивного поля, а в `answers` - косинусовые координаты."
   ]
  },
  {
   "cell_type": "raw",
   "id": "9332be87-b0fb-42e8-9f2d-9b4f2a3b259c",
   "metadata": {},
   "source": [
    "test = face1_yes[:,:PP_K]\n",
    "answers = face1_yes[:,PP_K + 1:PP_K + 1 + DIM]\n",
    "#answers[:,0] = 0.\n",
    "print(answers[-5:])"
   ]
  },
  {
   "cell_type": "markdown",
   "id": "2bbab089-0c8c-4838-86e1-469ad3db0b93",
   "metadata": {},
   "source": [
    "Объединим `test` и `answers` в массив `face_vec`. Перемешаем строчки и сохраним в `face_vec.npy`."
   ]
  },
  {
   "cell_type": "raw",
   "id": "187add3e-fc7d-492f-8221-0c955b8f19ae",
   "metadata": {},
   "source": [
    "face1_vec = np.hstack((test,answers))\n",
    "np.random.shuffle(face1_vec)\n",
    "print(face1_vec[:5,-5:])\n",
    "np.save(_DIR_ + 'face1/face1_vec.npy', face1_vec)"
   ]
  },
  {
   "cell_type": "markdown",
   "id": "f275e227-1933-4bc6-b86a-9ca081b7fd09",
   "metadata": {},
   "source": [
    "## Формирование косинусовых векторов для ИНС директора 2 (без нулей)"
   ]
  },
  {
   "cell_type": "markdown",
   "id": "e3397942-a092-42d6-ad52-9106b38b3d7b",
   "metadata": {},
   "source": [
    "Поместим в `face1_yes` строчки, в которых поле `face` равно `1.`. Движение возможно только по ребру."
   ]
  },
  {
   "cell_type": "code",
   "execution_count": 8,
   "id": "e762cd13-c4a6-4c56-8244-53aee477c056",
   "metadata": {},
   "outputs": [
    {
     "name": "stdout",
     "output_type": "stream",
     "text": [
      "[1. 1. 1. 1. 1. 1. 1. 1. 1. 1.]\n",
      "20700\n"
     ]
    }
   ],
   "source": [
    "face1_yes = dataset[np.in1d(dataset[:, PP_K], np.asarray([2.]))]\n",
    "#face1_yes = face1_yes[np.in1d(face1_yes[:, PP_K + 1 + DIM + 1], np.asarray([1.]))]\n",
    "print(face1_yes[:10, PP_K + 1 + DIM + 1]) # Проверка столбца face_count[1] (содержит число многообразий уровня 2, по которым возможно движение)\n",
    "print(len(face1_yes))"
   ]
  },
  {
   "cell_type": "markdown",
   "id": "fc87d81b-4865-4fd1-88a7-46ec3e3391d0",
   "metadata": {
    "editable": true,
    "slideshow": {
     "slide_type": ""
    },
    "tags": []
   },
   "source": [
    "Сохраним в `test` поля, содержащие образ рецептивного поля, а в `answers` - косинусовые координаты."
   ]
  },
  {
   "cell_type": "code",
   "execution_count": 9,
   "id": "160aedbf-cff6-47e6-aff5-2ee43be0e1da",
   "metadata": {},
   "outputs": [
    {
     "name": "stdout",
     "output_type": "stream",
     "text": [
      "[[ 7.56999543e-16  5.22232968e-01 -1.05940288e-01  8.46197012e-01\n",
      "  -9.46249429e-17]\n",
      " [ 1.76615224e-16 -2.74873708e-01  1.34634177e-01 -6.02102344e-01\n",
      "   7.37421758e-01]\n",
      " [-8.21517238e-15 -9.79503923e-02 -4.71988102e-01 -8.66769571e-01\n",
      "   1.27841553e-01]\n",
      " [-8.28403439e-15 -4.23430354e-01 -8.86034988e-01 -1.04658924e-01\n",
      "  -1.57147206e-01]\n",
      " [ 3.42041036e-16 -1.60128154e-01  4.93548117e-01 -5.86422546e-01\n",
      "  -6.21995039e-01]]\n"
     ]
    }
   ],
   "source": [
    "test = face1_yes[:,:PP_K]\n",
    "answers = face1_yes[:,PP_K + 1:PP_K + 1 + DIM]\n",
    "#answers[:,0] = 0.\n",
    "print(answers[-5:])"
   ]
  },
  {
   "cell_type": "markdown",
   "id": "546e4797-ee51-4763-8db2-9efb704838f9",
   "metadata": {},
   "source": [
    "Объединим `test` и `answers` в массив `face_vec`. Перемешаем строчки и сохраним в `face_vec.npy`."
   ]
  },
  {
   "cell_type": "code",
   "execution_count": 10,
   "id": "bb8eb703-6aab-4c9f-89c1-376b8b5c72b6",
   "metadata": {},
   "outputs": [
    {
     "name": "stdout",
     "output_type": "stream",
     "text": [
      "[[ 0.00000000e+00 -3.09492230e-01 -6.47006840e-01 -6.96847693e-01\n",
      "   0.00000000e+00]\n",
      " [-4.12575345e-17 -2.03615741e-01 -9.40460821e-01  3.77425678e-02\n",
      "   2.69535847e-01]\n",
      " [-3.80612244e-16 -3.55454959e-01 -5.98495803e-01  2.30751773e-01\n",
      "  -6.79858930e-01]\n",
      " [ 2.86932111e-16 -5.56348640e-01 -5.76586073e-01 -5.98351645e-01\n",
      "   0.00000000e+00]\n",
      " [-4.48255102e-16  5.04878164e-01 -5.72289806e-01 -6.01140083e-01\n",
      "  -2.37092846e-01]]\n"
     ]
    }
   ],
   "source": [
    "face1_vec = np.hstack((test,answers))\n",
    "np.random.shuffle(face1_vec)\n",
    "print(face1_vec[:5,-5:])\n",
    "np.save(_DIR_ + 'face2_vec.npy', face1_vec)"
   ]
  },
  {
   "cell_type": "markdown",
   "id": "2859a5a0-04af-4e6b-a425-6e2d5d3a6774",
   "metadata": {
    "editable": true,
    "slideshow": {
     "slide_type": ""
    },
    "tags": []
   },
   "source": [
    "## Формирование косинусовых векторов для ИНС директора (включая нули)"
   ]
  },
  {
   "cell_type": "raw",
   "id": "88660444-1883-4d67-9709-13ded9e19940",
   "metadata": {},
   "source": [
    "Сохраним в `test` поля, содержащие образ рецептивного поля, а в `answers` - косинусовые координаты."
   ]
  },
  {
   "cell_type": "raw",
   "id": "2353b521-8c7a-4953-b1ee-dd2298abd882",
   "metadata": {},
   "source": [
    "test = dataset[:,:PP_K]\n",
    "answers = dataset[:,PP_K + 1:PP_K + 1 + DIM]\n",
    "answers[:,0] = 0.\n",
    "print(answers[-5:])"
   ]
  },
  {
   "cell_type": "raw",
   "id": "28cd7ce4-c4e4-4700-9d91-5c4dbb002513",
   "metadata": {},
   "source": [
    "Объединим `test` и `answers` в массив `face_vec`. Перемешаем строчки и сохраним в `face_vec.npy`."
   ]
  },
  {
   "cell_type": "raw",
   "id": "2499ff8e-153d-4fd6-8531-7e1c14463165",
   "metadata": {},
   "source": [
    "face1_vec = np.hstack((test,answers))\n",
    "np.random.shuffle(face1_vec)\n",
    "print(face1_vec[:5,-5:])\n",
    "np.save(_DIR_ + 'face_vec.npy', face1_vec)"
   ]
  },
  {
   "cell_type": "markdown",
   "id": "eb9abd9d-ce92-440e-8991-afab1b8d7ef7",
   "metadata": {},
   "source": [
    "## Формирование прецедентов для ИНС распознавателя"
   ]
  },
  {
   "cell_type": "markdown",
   "id": "5b018faf-0ceb-44a5-8b61-f8b24be2e513",
   "metadata": {},
   "source": [
    "Поместим в `face1_yes` строчки, в которых поле `face` равно `2.` Движение возможно только по ребрам. Причем, по единственному ребру."
   ]
  },
  {
   "cell_type": "raw",
   "id": "d06e23fa-2d9d-4fbe-b4fa-5255335829c1",
   "metadata": {},
   "source": [
    "face1_yes = dataset[np.in1d(dataset[:, PP_K], np.asarray([2.]))]\n",
    "face1_yes = face1_yes[np.in1d(face1_yes[:, PP_K + 1 + DIM + 1], np.asarray([1.]))]\n",
    "print(face1_yes[:10, PP_K + 1 + DIM + 1]) # Проверка столбца face_count[1] (содержит число многообразий уровня 2, по которым возможно движение)\n",
    "print(len(face1_yes))"
   ]
  },
  {
   "cell_type": "markdown",
   "id": "fc6bf7d6-d384-41cf-9403-16ad9042c5ab",
   "metadata": {},
   "source": [
    "Поместим в `face1_no` строчки, в которых поле `face` не равно `2.`."
   ]
  },
  {
   "cell_type": "raw",
   "id": "efc65861-7d74-4a06-93ec-3e860e9ff5f0",
   "metadata": {},
   "source": [
    "face1_no = dataset[np.in1d(dataset[:, PP_K], np.asarray([1., 0.]))]\n",
    "print(face1_no[:10, PP_K + 1 + DIM + 1]) # Проверка столбца face_count[1] (содержит число многообразий уровня 2, по которым возможно движение)\n",
    "print(len(face1_no))"
   ]
  },
  {
   "cell_type": "markdown",
   "id": "3445bd55-0a43-47b1-810e-1db6e175163b",
   "metadata": {},
   "source": [
    "Поместим в `idx` случайный набор индексов. По этим индексам выпишем в `test` случайный набор строк из `face1_yes`. Сгенерируем столбец правильных ответов, состоящий из единиц и поместим его в `answers`. Объединив `test` и `answers`, перезапишем в `face1_yes` набор данных, где первые PP_K столбцов содержат образ рецептивного поля (набор смещений), а последний столбец правильные ответы (единицы)."
   ]
  },
  {
   "cell_type": "raw",
   "id": "d8c79fd9-afff-4907-87e8-eeb39a571b6b",
   "metadata": {},
   "source": [
    "idx = np.random.randint(face1_yes.shape[0], size=LIMIT)\n",
    "answers_yes = np.ones((LIMIT,1))\n",
    "answers_no = np.zeros((LIMIT,1))\n",
    "answers = np.hstack((answers_yes, answers_no))\n",
    "test = face1_yes[idx,:PP_K]\n",
    "face1_yes = np.hstack((test, answers))\n",
    "print(face1_yes.shape)\n",
    "print(face1_yes[:,-4:])"
   ]
  },
  {
   "cell_type": "markdown",
   "id": "2f6f6c5f-245b-48d7-975a-e2eb3601acc7",
   "metadata": {},
   "source": [
    "Поместим в `idx` случайный набор индексов. По этим индексам выпишем в `test` случайный набор строк из `face1_no`. Сгенерируем столбец правильных ответов, состоящий из нулей и поместим его в `answers`. Объединив `test` и `answers`, перезапишем в `face1_no` набор данных, где первые PP_K столбцов содержат образ рецептивного поля (набор смещений), а последний столбец правильные ответы (нули)."
   ]
  },
  {
   "cell_type": "raw",
   "id": "33cc4e02-f9eb-4866-b612-216712ccbc6c",
   "metadata": {},
   "source": [
    "idx = np.random.randint(face1_no.shape[0], size=LIMIT)\n",
    "answers_yes = np.zeros((LIMIT,1))\n",
    "answers_no = np.ones((LIMIT,1))\n",
    "answers = np.hstack((answers_yes, answers_no))\n",
    "test = face1_no[idx,:PP_K]\n",
    "face1_no = np.hstack((test, answers))\n",
    "print(face1_no.shape)\n",
    "print(face1_no[:,-4:])"
   ]
  },
  {
   "cell_type": "markdown",
   "id": "c1be6bbb-90db-4e74-bb71-a1d183bfd410",
   "metadata": {},
   "source": [
    "Объединим и поместим в `face1` наборы положительных прецедентов `face1_yes` и отрицательных прецедентов `face1_no`. Перемешаем их и сохраним в файл `face_def.npy`."
   ]
  },
  {
   "cell_type": "raw",
   "id": "0625781a-924d-4637-9517-3c02a37cb212",
   "metadata": {},
   "source": [
    "print(face1_yes.shape)\n",
    "print(face1_no.shape)\n",
    "face1 = np.vstack((face1_yes, face1_no))\n",
    "np.random.shuffle(face1)\n",
    "print(face1[:,-4:])\n",
    "np.save(_DIR_ + 'face_def.npy', face1)"
   ]
  },
  {
   "cell_type": "raw",
   "id": "e1df25d5-5d8f-4f62-ae6c-84c0f4ab9b5f",
   "metadata": {},
   "source": [
    "global_no = dataset[np.in1d(dataset[:, PP_K], np.asarray([0.]))]\n",
    "print(global_no[:10, PP_K + 1 + DIM + 1])\n",
    "print(len(global_no))"
   ]
  },
  {
   "cell_type": "raw",
   "id": "08085033-5e30-4343-bb1f-1aabc7d66933",
   "metadata": {},
   "source": [
    "WTF = dataset[np.in1d(dataset[:, PP_K], np.asarray([1., 2., 0.]), invert=True)]\n",
    "print(len(WTF))"
   ]
  }
 ],
 "metadata": {
  "kernelspec": {
   "display_name": "Python 3 (ipykernel)",
   "language": "python",
   "name": "python3"
  },
  "language_info": {
   "codemirror_mode": {
    "name": "ipython",
    "version": 3
   },
   "file_extension": ".py",
   "mimetype": "text/x-python",
   "name": "python",
   "nbconvert_exporter": "python",
   "pygments_lexer": "ipython3",
   "version": "3.9.19"
  }
 },
 "nbformat": 4,
 "nbformat_minor": 5
}
